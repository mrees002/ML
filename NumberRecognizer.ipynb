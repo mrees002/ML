{
  "cells": [
    {
      "cell_type": "markdown",
      "metadata": {
        "id": "view-in-github",
        "colab_type": "text"
      },
      "source": [
        "<a href=\"https://colab.research.google.com/github/mrees002/ML/blob/main/NumberRecognizer.ipynb\" target=\"_parent\"><img src=\"https://colab.research.google.com/assets/colab-badge.svg\" alt=\"Open In Colab\"/></a>"
      ]
    },
    {
      "cell_type": "markdown",
      "metadata": {
        "id": "iGQeJu2VH8jl"
      },
      "source": [
        "# MLDS/DiRP Reading Group Project 1: Convolutional Neural Networks\n",
        "\n",
        "For this project, you will writing a convolutional neural network using PyTorch.\n",
        "\n",
        "### Getting Started: Google Colab\n",
        "\n",
        "On Google Colab, click connect and start running cells. All the necessary packages are pre-installed.\n",
        "\n",
        "### Getting Started: Local\n",
        "\n",
        "To run this project locally with conda, run the following commands:\n",
        "\n",
        "``` bash\n",
        "conda create -n reading_group python==3.10.13\n",
        "pip install torch\n",
        "pip install scikit-learn\n",
        "pip install juptyerlab\n",
        "pip install tqdm\n",
        "```\n",
        "\n",
        "If you do not have conda, you can install the VSCode Extension `Python Environment Manager`, then it should prompt you to install conda.\n",
        "\n",
        "### Project Tasks\n",
        "\n",
        "1. Implement the CNN class\n",
        "2. Define the dataloaders, criterion, optimizer, and model\n",
        "3. Write the training loop\n",
        "4. Experiment with different hyperparameters\n",
        "\n",
        "### Bonus Tasks\n",
        "\n",
        "1. Instead of classifying the images, try generating them. Pass the digit label into you model and output the image. Use mean sqaured error loss between the generated image and the target image.\n",
        "\n",
        "## Useful Functions\n",
        "\n",
        "``` python3\n",
        "nn.Conv2d(in_channels, out_channels, kernel_size, stride, padding)\n",
        "nn.BatchNorm2d(num_features)\n",
        "nn.Dropout(p)\n",
        "nn.ReLU()\n",
        "\n",
        "nn.MaxPool2d(kernel_size, stride)\n",
        "nn.Flatten()\n",
        "nn.Linear(in_features, out_features)\n",
        "nn.BatchNorm1d(num_features)\n",
        "nn.Softmax(dim)\n",
        "\n",
        "random_split(dataset, lengths)\n",
        "DataLoader(dataset, batch_size, shuffle)\n",
        "nn.NLLLoss()\n",
        "torch.optim(params, lr)\n",
        "```"
      ]
    },
    {
      "cell_type": "code",
      "execution_count": null,
      "metadata": {
        "id": "ooq9V9ngH8jr"
      },
      "outputs": [],
      "source": [
        "import torch\n",
        "from torch import Tensor, nn\n",
        "from torch.utils.data import DataLoader, random_split\n",
        "import torchvision\n",
        "import torchvision.transforms as transforms\n",
        "from matplotlib import pyplot as plt\n",
        "from tqdm import tqdm"
      ]
    },
    {
      "cell_type": "code",
      "execution_count": null,
      "metadata": {
        "id": "0SIYCB-CH8js",
        "collapsed": true
      },
      "outputs": [],
      "source": [
        "class CNN(nn.Module):\n",
        "    def __init__(self):\n",
        "        super(CNN, self).__init__()\n",
        "        self.conv1 = nn.Conv2d(in_channels=1, out_channels=32, kernel_size=3, stride=1, padding=1)\n",
        "        self.conv2 = nn.Conv2d(in_channels=32, out_channels=64, kernel_size=3, stride=1, padding=1)\n",
        "        self.fc1 = nn.Linear(64 * 7 * 7, 128)  # Adjust input size accordingly\n",
        "        self.fc2 = nn.Linear(128, 10)  # 10 classes for digits 0-9\n",
        "\n",
        "    def forward(self, x: Tensor) -> Tensor:\n",
        "        x = nn.functional.relu(self.conv1(x))\n",
        "        x = nn.functional.max_pool2d(x, 2)  # Max pooling layer\n",
        "        x = nn.functional.relu(self.conv2(x))\n",
        "        x = nn.functional.max_pool2d(x, 2)  # Max pooling layer\n",
        "        x = x.view(x.size(0), -1)  # Flatten the tensor\n",
        "        x = nn.functional.relu(self.fc1(x))\n",
        "        x = self.fc2(x)\n",
        "        return x"
      ]
    },
    {
      "cell_type": "code",
      "execution_count": null,
      "metadata": {
        "id": "tqQxL8TeH8js",
        "outputId": "425316b9-3f55-4730-ff9c-cb5af40b2a72",
        "colab": {
          "base_uri": "https://localhost:8080/",
          "height": 519
        },
        "collapsed": true
      },
      "outputs": [
        {
          "output_type": "stream",
          "name": "stdout",
          "text": [
            "Input shape: torch.Size([1, 28, 28])\n",
            "Input min: tensor(0.)\n",
            "Input max: tensor(1.)\n",
            "Input:\n"
          ]
        },
        {
          "output_type": "display_data",
          "data": {
            "text/plain": [
              "<Figure size 640x480 with 1 Axes>"
            ],
            "image/png": "[encoded data removed]"
          },
          "metadata": {}
        },
        {
          "output_type": "stream",
          "name": "stdout",
          "text": [
            "Target: 5\n"
          ]
        }
      ],
      "source": [
        "# Download and load the dataset\n",
        "# Add a transform to convert each PIL image to a PyTorch tensor\n",
        "dataset = torchvision.datasets.MNIST(\n",
        "    root=\"./data\", download=True, transform=transforms.ToTensor()\n",
        ")\n",
        "\n",
        "print(\"Input shape:\", dataset[0][0].shape)\n",
        "print(\"Input min:\", dataset[0][0].min())\n",
        "print(\"Input max:\", dataset[0][0].max())\n",
        "print(\"Input:\")\n",
        "plt.imshow(dataset[0][0].squeeze(), cmap=\"gray\")\n",
        "plt.show()\n",
        "\n",
        "print(\"Target:\", dataset[0][1])"
      ]
    },
    {
      "cell_type": "code",
      "execution_count": null,
      "metadata": {
        "id": "thrx_Z1uH8jt"
      },
      "outputs": [],
      "source": [
        "# Create dataloaders\n",
        "# YOUR CODE HERE\n",
        "\n",
        "# Split dataset into training and test sets\n",
        "train_size = int(0.8 * len(dataset))\n",
        "test_size = len(dataset) - train_size\n",
        "train_dataset, test_dataset = random_split(dataset, [train_size, test_size])\n",
        "\n",
        "# Define data loaders\n",
        "train_loader = DataLoader(train_dataset, batch_size=64, shuffle=True)\n",
        "test_loader = DataLoader(test_dataset, batch_size=64, shuffle=False)\n",
        "\n",
        "# Create the CNN model\n",
        "# YOUR CODE HERE\n",
        "\n",
        "model = CNN()\n",
        "\n",
        "# Define the loss function and optimizer\n",
        "# YOUR CODE HERE\n",
        "\n",
        "criterion = nn.CrossEntropyLoss()\n",
        "optimizer = torch.optim.Adam(model.parameters(), lr=0.001)"
      ]
    },
    {
      "cell_type": "code",
      "execution_count": null,
      "metadata": {
        "id": "-OTbrGnbH8jt",
        "outputId": "054533b8-f054-49cc-c187-390ce8ae2a1f",
        "colab": {
          "base_uri": "https://localhost:8080/",
          "height": 353
        }
      },
      "outputs": [
        {
          "output_type": "stream",
          "name": "stderr",
          "text": [
            "Epoch 1/3: 100%|██████████| 750/750 [01:07<00:00, 11.10batch/s]\n"
          ]
        },
        {
          "output_type": "stream",
          "name": "stdout",
          "text": [
            "Epoch [1/3], Loss: 0.0067\n",
            "Accuracy of the model on the test images: 99.04%\n"
          ]
        },
        {
          "output_type": "stream",
          "name": "stderr",
          "text": [
            "Epoch 2/3: 100%|██████████| 750/750 [01:07<00:00, 11.08batch/s]\n"
          ]
        },
        {
          "output_type": "stream",
          "name": "stdout",
          "text": [
            "Epoch [2/3], Loss: 0.0066\n",
            "Accuracy of the model on the test images: 98.91%\n"
          ]
        },
        {
          "output_type": "stream",
          "name": "stderr",
          "text": [
            "Epoch 3/3: 100%|██████████| 750/750 [01:08<00:00, 10.99batch/s]\n"
          ]
        },
        {
          "output_type": "stream",
          "name": "stdout",
          "text": [
            "Epoch [3/3], Loss: 0.0043\n",
            "Accuracy of the model on the test images: 98.93%\n"
          ]
        },
        {
          "output_type": "display_data",
          "data": {
            "text/plain": [
              "<Figure size 1000x200 with 5 Axes>"
            ],
            "image/png": "[encoded data removed]"
          },
          "metadata": {}
        }
      ],
      "source": [
        "# Train the model\n",
        "num_epochs = 3\n",
        "for epoch in range(num_epochs):\n",
        "    # YOUR CODE HERE\n",
        "    model.train()  # Set the model to training mode\n",
        "    running_loss = 0.0\n",
        "    for images, labels in tqdm(train_loader, desc=f'Epoch {epoch + 1}/{num_epochs}', unit='batch'):\n",
        "        # Zero the gradients\n",
        "        optimizer.zero_grad()\n",
        "\n",
        "        # Forward pass\n",
        "        outputs = model(images)\n",
        "        loss = criterion(outputs, labels)\n",
        "\n",
        "        # Backward pass and optimization\n",
        "        loss.backward()\n",
        "        optimizer.step()\n",
        "\n",
        "        running_loss += loss.item()\n",
        "\n",
        "    print(f'Epoch [{epoch + 1}/{num_epochs}], Loss: {running_loss / len(train_loader):.4f}')\n",
        "\n",
        "    # Evaluate the model\n",
        "    model.eval()  # Set the model to evaluation mode\n",
        "    correct = 0\n",
        "    total = 0\n",
        "\n",
        "    with torch.no_grad():\n",
        "      for images, labels in test_loader:\n",
        "        outputs = model(images)\n",
        "        _, predicted = torch.max(outputs.data, 1)\n",
        "        total += labels.size(0)\n",
        "        correct += (predicted == labels).sum().item()\n",
        "\n",
        "    print(f'Accuracy of the model on the test images: {100 * correct / total:.2f}%')\n",
        "\n",
        "    # Visualize sample predictions\n",
        "    def visualize_predictions(dataset, model, num_images=5):\n",
        "      model.eval()\n",
        "      with torch.no_grad():\n",
        "        data_iter = iter(test_loader)\n",
        "        images, labels = next(data_iter)\n",
        "        outputs = model(images)\n",
        "        _, predicted = torch.max(outputs.data, 1)\n",
        "\n",
        "        fig, axes = plt.subplots(1, num_images, figsize=(10, 2))\n",
        "        for i in range(num_images):\n",
        "            ax = axes[i]\n",
        "            ax.imshow(images[i][0], cmap=\"gray\")\n",
        "            ax.set_title(f'Pred: {predicted[i].item()}, True: {labels[i].item()}')\n",
        "            ax.axis('off')\n",
        "        plt.show()\n",
        "\n",
        "visualize_predictions(test_loader, model)"
      ]
    },
    {
      "cell_type": "code",
      "source": [
        "import torch\n",
        "import torchvision.transforms as transforms\n",
        "from PIL import Image\n",
        "import matplotlib.pyplot as plt\n",
        "from google.colab import files\n",
        "\n",
        "# Ensure your model is defined and trained (load it if necessary)\n",
        "# model = YourModel()  # Replace with your model class\n",
        "# model.load_state_dict(torch.load('path_to_your_model.pth'))\n",
        "# model.eval()\n",
        "\n",
        "# Define the image transformation\n",
        "transform = transforms.Compose([\n",
        "    transforms.Grayscale(num_output_channels=1),  # Ensure the image is grayscale\n",
        "    transforms.Resize((28, 28)),  # Resize to 28x28\n",
        "    transforms.ToTensor(),  # Convert to tensor\n",
        "    transforms.Normalize((0.5,), (0.5,)),  # Normalize\n",
        "])\n",
        "\n",
        "# Function to predict the number from an image\n",
        "def predict_number(image_path):\n",
        "    # Load the image\n",
        "    image = Image.open(image_path)\n",
        "    plt.imshow(image, cmap='gray')\n",
        "    plt.axis('off')\n",
        "    plt.show()\n",
        "\n",
        "    # Preprocess the image\n",
        "    image = transform(image).unsqueeze(0)  # Add batch dimension\n",
        "\n",
        "    # Make the prediction\n",
        "    with torch.no_grad():\n",
        "        outputs = model(image)\n",
        "        _, predicted = torch.max(outputs.data, 1)\n",
        "\n",
        "    print(f'Predicted Number: {predicted.item()}')\n",
        "\n",
        "# Upload an image\n",
        "uploaded = files.upload()\n",
        "\n",
        "# Predict for each uploaded file\n",
        "for filename in uploaded.keys():\n",
        "    predict_number(filename)"
      ],
      "metadata": {
        "id": "mERbPqumzeAk"
      },
      "execution_count": null,
      "outputs": []
    }
  ],
  "metadata": {
    "kernelspec": {
      "display_name": "reading_group",
      "language": "python",
      "name": "python3"
    },
    "language_info": {
      "codemirror_mode": {
        "name": "ipython",
        "version": 3
      },
      "file_extension": ".py",
      "mimetype": "text/x-python",
      "name": "python",
      "nbconvert_exporter": "python",
      "pygments_lexer": "ipython3",
      "version": "3.10.13"
    },
    "colab": {
      "provenance": [],
      "include_colab_link": true
    }
  },
  "nbformat": 4,
  "nbformat_minor": 0
}